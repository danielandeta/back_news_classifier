{
  "cells": [
    {
      "cell_type": "code",
      "execution_count": 43,
      "metadata": {
        "id": "ARSMXgKyOn-R"
      },
      "outputs": [],
      "source": [
        "from transformers import BertTokenizer\n",
        "import tensorflow as tf\n",
        "from keras.utils import pad_sequences\n",
        "import pandas as pd\n",
        "from sklearn.model_selection import train_test_split\n",
        "from matplotlib.colors import LinearSegmentedColormap\n",
        "from sklearn.model_selection import GridSearchCV\n",
        "from sklearn.metrics import confusion_matrix, top_k_accuracy_score, classification_report\n",
        "from sklearn.pipeline import make_pipeline\n",
        "from sklearn.preprocessing import MinMaxScaler\n",
        "from PIL import Image, ImageFont, ImageDraw\n",
        "import numpy as np\n",
        "from xsvmlib.xsvmc import xSVMC\n",
        "from joblib import dump, load"
      ]
    },
    {
      "cell_type": "code",
      "execution_count": 4,
      "metadata": {
        "id": "ed0BREFcX6Rf"
      },
      "outputs": [],
      "source": [
        "RANDOM_STATE = 42"
      ]
    },
    {
      "cell_type": "code",
      "execution_count": 5,
      "metadata": {
        "id": "PhgTIVFIWWYl"
      },
      "outputs": [],
      "source": [
        "df_news = pd.read_csv(\"./data/df_total.csv\")"
      ]
    },
    {
      "cell_type": "code",
      "execution_count": 6,
      "metadata": {
        "id": "AU2_SN4OWfAd"
      },
      "outputs": [],
      "source": [
        "sentences = df_news.news.values"
      ]
    },
    {
      "cell_type": "code",
      "execution_count": 7,
      "metadata": {
        "colab": {
          "base_uri": "https://localhost:8080/"
        },
        "id": "iph6tfeWxrJZ",
        "outputId": "60523228-1e06-43e9-9b6f-7cf296d15ccf"
      },
      "outputs": [
        {
          "data": {
            "text/plain": [
              "array(['Otra', 'Regulaciones', 'Alianzas', 'Macroeconomia', 'Innovacion',\n",
              "       'Sostenibilidad', 'Reputacion'], dtype=object)"
            ]
          },
          "execution_count": 7,
          "metadata": {},
          "output_type": "execute_result"
        }
      ],
      "source": [
        "df_news.Type.unique()"
      ]
    },
    {
      "cell_type": "code",
      "execution_count": 10,
      "metadata": {
        "id": "erwAfi921XXi"
      },
      "outputs": [],
      "source": [
        "tokenizer = BertTokenizer.from_pretrained('bert-base-multilingual-cased', do_lower_case=True)"
      ]
    },
    {
      "cell_type": "code",
      "execution_count": 11,
      "metadata": {
        "colab": {
          "base_uri": "https://localhost:8080/"
        },
        "id": "SF0z5SAAZ6q8",
        "outputId": "bbe5b74a-1c4f-4eb1-97d5-f312d62485ef"
      },
      "outputs": [
        {
          "name": "stderr",
          "output_type": "stream",
          "text": [
            "Token indices sequence length is longer than the specified maximum sequence length for this model (514 > 512). Running this sequence through the model will result in indexing errors\n"
          ]
        },
        {
          "name": "stdout",
          "output_type": "stream",
          "text": [
            "Max sentence length:  4433\n"
          ]
        }
      ],
      "source": [
        "max_len = 0\n",
        "\n",
        "# For every sentence...\n",
        "for sent in sentences:\n",
        "\n",
        "    # Tokenize the text and add `[CLS]` and `[SEP]` tokens.\n",
        "    input_ids = tokenizer.encode(sent, add_special_tokens=True)\n",
        "\n",
        "    # Update the maximum sentence length.\n",
        "    max_len = max(max_len, len(input_ids))\n",
        "\n",
        "print('Max sentence length: ', max_len)"
      ]
    },
    {
      "cell_type": "code",
      "execution_count": 12,
      "metadata": {
        "id": "rvXj3FXIYEpt"
      },
      "outputs": [],
      "source": [
        "token_ids = []\n",
        "encoded_inputs = []\n",
        "embed_vectors = []\n",
        "token_to_text = []\n",
        "for sentence in sentences:\n",
        "  encoded_input = tokenizer(sentence, return_tensors='tf')\n",
        "  tokens = encoded_input.input_ids[0]\n",
        "  \n",
        "  token_ids.append(tokens)\n",
        "  encoded_inputs.append(encoded_input)\n",
        "\n",
        "ready_tokens = pad_sequences(token_ids, padding=\"post\", maxlen=max_len)\n",
        "\n",
        "for i in range(len(ready_tokens)):\n",
        "  text = tokenizer.convert_ids_to_tokens(ready_tokens[i])\n",
        "  token_to_text.append(text) "
      ]
    },
    {
      "cell_type": "code",
      "execution_count": 18,
      "metadata": {},
      "outputs": [
        {
          "data": {
            "text/html": [
              "<style>#sk-container-id-4 {color: black;background-color: white;}#sk-container-id-4 pre{padding: 0;}#sk-container-id-4 div.sk-toggleable {background-color: white;}#sk-container-id-4 label.sk-toggleable__label {cursor: pointer;display: block;width: 100%;margin-bottom: 0;padding: 0.3em;box-sizing: border-box;text-align: center;}#sk-container-id-4 label.sk-toggleable__label-arrow:before {content: \"▸\";float: left;margin-right: 0.25em;color: #696969;}#sk-container-id-4 label.sk-toggleable__label-arrow:hover:before {color: black;}#sk-container-id-4 div.sk-estimator:hover label.sk-toggleable__label-arrow:before {color: black;}#sk-container-id-4 div.sk-toggleable__content {max-height: 0;max-width: 0;overflow: hidden;text-align: left;background-color: #f0f8ff;}#sk-container-id-4 div.sk-toggleable__content pre {margin: 0.2em;color: black;border-radius: 0.25em;background-color: #f0f8ff;}#sk-container-id-4 input.sk-toggleable__control:checked~div.sk-toggleable__content {max-height: 200px;max-width: 100%;overflow: auto;}#sk-container-id-4 input.sk-toggleable__control:checked~label.sk-toggleable__label-arrow:before {content: \"▾\";}#sk-container-id-4 div.sk-estimator input.sk-toggleable__control:checked~label.sk-toggleable__label {background-color: #d4ebff;}#sk-container-id-4 div.sk-label input.sk-toggleable__control:checked~label.sk-toggleable__label {background-color: #d4ebff;}#sk-container-id-4 input.sk-hidden--visually {border: 0;clip: rect(1px 1px 1px 1px);clip: rect(1px, 1px, 1px, 1px);height: 1px;margin: -1px;overflow: hidden;padding: 0;position: absolute;width: 1px;}#sk-container-id-4 div.sk-estimator {font-family: monospace;background-color: #f0f8ff;border: 1px dotted black;border-radius: 0.25em;box-sizing: border-box;margin-bottom: 0.5em;}#sk-container-id-4 div.sk-estimator:hover {background-color: #d4ebff;}#sk-container-id-4 div.sk-parallel-item::after {content: \"\";width: 100%;border-bottom: 1px solid gray;flex-grow: 1;}#sk-container-id-4 div.sk-label:hover label.sk-toggleable__label {background-color: #d4ebff;}#sk-container-id-4 div.sk-serial::before {content: \"\";position: absolute;border-left: 1px solid gray;box-sizing: border-box;top: 0;bottom: 0;left: 50%;z-index: 0;}#sk-container-id-4 div.sk-serial {display: flex;flex-direction: column;align-items: center;background-color: white;padding-right: 0.2em;padding-left: 0.2em;position: relative;}#sk-container-id-4 div.sk-item {position: relative;z-index: 1;}#sk-container-id-4 div.sk-parallel {display: flex;align-items: stretch;justify-content: center;background-color: white;position: relative;}#sk-container-id-4 div.sk-item::before, #sk-container-id-4 div.sk-parallel-item::before {content: \"\";position: absolute;border-left: 1px solid gray;box-sizing: border-box;top: 0;bottom: 0;left: 50%;z-index: -1;}#sk-container-id-4 div.sk-parallel-item {display: flex;flex-direction: column;z-index: 1;position: relative;background-color: white;}#sk-container-id-4 div.sk-parallel-item:first-child::after {align-self: flex-end;width: 50%;}#sk-container-id-4 div.sk-parallel-item:last-child::after {align-self: flex-start;width: 50%;}#sk-container-id-4 div.sk-parallel-item:only-child::after {width: 0;}#sk-container-id-4 div.sk-dashed-wrapped {border: 1px dashed gray;margin: 0 0.4em 0.5em 0.4em;box-sizing: border-box;padding-bottom: 0.4em;background-color: white;}#sk-container-id-4 div.sk-label label {font-family: monospace;font-weight: bold;display: inline-block;line-height: 1.2em;}#sk-container-id-4 div.sk-label-container {text-align: center;}#sk-container-id-4 div.sk-container {/* jupyter's `normalize.less` sets `[hidden] { display: none; }` but bootstrap.min.css set `[hidden] { display: none !important; }` so we also need the `!important` here to be able to override the default hidden behavior on the sphinx rendered scikit-learn.org. See: https://github.com/scikit-learn/scikit-learn/issues/21755 */display: inline-block !important;position: relative;}#sk-container-id-4 div.sk-text-repr-fallback {display: none;}</style><div id=\"sk-container-id-4\" class=\"sk-top-container\"><div class=\"sk-text-repr-fallback\"><pre>MinMaxScaler()</pre><b>In a Jupyter environment, please rerun this cell to show the HTML representation or trust the notebook. <br />On GitHub, the HTML representation is unable to render, please try loading this page with nbviewer.org.</b></div><div class=\"sk-container\" hidden><div class=\"sk-item\"><div class=\"sk-estimator sk-toggleable\"><input class=\"sk-toggleable__control sk-hidden--visually\" id=\"sk-estimator-id-6\" type=\"checkbox\" checked><label for=\"sk-estimator-id-6\" class=\"sk-toggleable__label sk-toggleable__label-arrow\">MinMaxScaler</label><div class=\"sk-toggleable__content\"><pre>MinMaxScaler()</pre></div></div></div></div></div>"
            ],
            "text/plain": [
              "MinMaxScaler()"
            ]
          },
          "execution_count": 18,
          "metadata": {},
          "output_type": "execute_result"
        }
      ],
      "source": [
        "scaler = MinMaxScaler()\n",
        "scaler.fit(ready_tokens)"
      ]
    },
    {
      "cell_type": "code",
      "execution_count": 45,
      "metadata": {},
      "outputs": [],
      "source": [
        "clf = load(\"./xsvmc.joblib\")"
      ]
    },
    {
      "cell_type": "code",
      "execution_count": 35,
      "metadata": {
        "id": "fCDJjKV3fRpM"
      },
      "outputs": [],
      "source": [
        "X = scaler.transform(ready_tokens)\n",
        "y = df_news[\"Type\"]\n",
        "X_train, X_test, y_train, y_test = train_test_split(X, y, test_size=0.3, random_state=RANDOM_STATE)"
      ]
    },
    {
      "cell_type": "code",
      "execution_count": 21,
      "metadata": {
        "id": "isJ4-BL8gDGu"
      },
      "outputs": [],
      "source": [
        "param_grid = {\n",
        "  'C': [1, 0.1, 10, 100], \n",
        "  'kernel': [\"poly\"],\n",
        "  'gamma': [0.01, 0.1, 1],\n",
        "  'degree': [3],\n",
        "  'coef0': [0.1, 1, 10, 100],\n",
        "}"
      ]
    },
    {
      "cell_type": "code",
      "execution_count": 22,
      "metadata": {
        "id": "r8tUbtfFgGGe"
      },
      "outputs": [
        {
          "name": "stdout",
          "output_type": "stream",
          "text": [
            "Fitting 3 folds for each of 48 candidates, totalling 144 fits\n",
            "[CV] END ..C=1, coef0=0.1, degree=3, gamma=0.01, kernel=poly; total time=   2.4s\n",
            "[CV] END ..C=1, coef0=0.1, degree=3, gamma=0.01, kernel=poly; total time=   2.1s\n",
            "[CV] END ..C=1, coef0=0.1, degree=3, gamma=0.01, kernel=poly; total time=   2.0s\n",
            "[CV] END ...C=1, coef0=0.1, degree=3, gamma=0.1, kernel=poly; total time=   1.8s\n",
            "[CV] END ...C=1, coef0=0.1, degree=3, gamma=0.1, kernel=poly; total time=   1.7s\n",
            "[CV] END ...C=1, coef0=0.1, degree=3, gamma=0.1, kernel=poly; total time=   1.6s\n",
            "[CV] END .....C=1, coef0=0.1, degree=3, gamma=1, kernel=poly; total time=   1.7s\n",
            "[CV] END .....C=1, coef0=0.1, degree=3, gamma=1, kernel=poly; total time=   1.6s\n",
            "[CV] END .....C=1, coef0=0.1, degree=3, gamma=1, kernel=poly; total time=   1.6s\n",
            "[CV] END ....C=1, coef0=1, degree=3, gamma=0.01, kernel=poly; total time=   1.6s\n",
            "[CV] END ....C=1, coef0=1, degree=3, gamma=0.01, kernel=poly; total time=   1.7s\n",
            "[CV] END ....C=1, coef0=1, degree=3, gamma=0.01, kernel=poly; total time=   1.6s\n",
            "[CV] END .....C=1, coef0=1, degree=3, gamma=0.1, kernel=poly; total time=   1.6s\n",
            "[CV] END .....C=1, coef0=1, degree=3, gamma=0.1, kernel=poly; total time=   1.6s\n",
            "[CV] END .....C=1, coef0=1, degree=3, gamma=0.1, kernel=poly; total time=   1.6s\n",
            "[CV] END .......C=1, coef0=1, degree=3, gamma=1, kernel=poly; total time=   1.6s\n",
            "[CV] END .......C=1, coef0=1, degree=3, gamma=1, kernel=poly; total time=   1.6s\n",
            "[CV] END .......C=1, coef0=1, degree=3, gamma=1, kernel=poly; total time=   1.6s\n",
            "[CV] END ...C=1, coef0=10, degree=3, gamma=0.01, kernel=poly; total time=   1.6s\n",
            "[CV] END ...C=1, coef0=10, degree=3, gamma=0.01, kernel=poly; total time=   1.6s\n",
            "[CV] END ...C=1, coef0=10, degree=3, gamma=0.01, kernel=poly; total time=   1.6s\n",
            "[CV] END ....C=1, coef0=10, degree=3, gamma=0.1, kernel=poly; total time=   1.6s\n",
            "[CV] END ....C=1, coef0=10, degree=3, gamma=0.1, kernel=poly; total time=   1.6s\n",
            "[CV] END ....C=1, coef0=10, degree=3, gamma=0.1, kernel=poly; total time=   1.6s\n",
            "[CV] END ......C=1, coef0=10, degree=3, gamma=1, kernel=poly; total time=   1.6s\n",
            "[CV] END ......C=1, coef0=10, degree=3, gamma=1, kernel=poly; total time=   1.6s\n",
            "[CV] END ......C=1, coef0=10, degree=3, gamma=1, kernel=poly; total time=   1.6s\n",
            "[CV] END ..C=1, coef0=100, degree=3, gamma=0.01, kernel=poly; total time=   1.6s\n",
            "[CV] END ..C=1, coef0=100, degree=3, gamma=0.01, kernel=poly; total time=   1.6s\n",
            "[CV] END ..C=1, coef0=100, degree=3, gamma=0.01, kernel=poly; total time=   1.5s\n",
            "[CV] END ...C=1, coef0=100, degree=3, gamma=0.1, kernel=poly; total time=   1.6s\n",
            "[CV] END ...C=1, coef0=100, degree=3, gamma=0.1, kernel=poly; total time=   1.6s\n",
            "[CV] END ...C=1, coef0=100, degree=3, gamma=0.1, kernel=poly; total time=   1.6s\n",
            "[CV] END .....C=1, coef0=100, degree=3, gamma=1, kernel=poly; total time=   1.6s\n",
            "[CV] END .....C=1, coef0=100, degree=3, gamma=1, kernel=poly; total time=   1.6s\n",
            "[CV] END .....C=1, coef0=100, degree=3, gamma=1, kernel=poly; total time=   1.6s\n",
            "[CV] END C=0.1, coef0=0.1, degree=3, gamma=0.01, kernel=poly; total time=   1.6s\n",
            "[CV] END C=0.1, coef0=0.1, degree=3, gamma=0.01, kernel=poly; total time=   1.6s\n",
            "[CV] END C=0.1, coef0=0.1, degree=3, gamma=0.01, kernel=poly; total time=   1.6s\n",
            "[CV] END .C=0.1, coef0=0.1, degree=3, gamma=0.1, kernel=poly; total time=   1.7s\n",
            "[CV] END .C=0.1, coef0=0.1, degree=3, gamma=0.1, kernel=poly; total time=   1.7s\n",
            "[CV] END .C=0.1, coef0=0.1, degree=3, gamma=0.1, kernel=poly; total time=   1.6s\n",
            "[CV] END ...C=0.1, coef0=0.1, degree=3, gamma=1, kernel=poly; total time=   1.7s\n",
            "[CV] END ...C=0.1, coef0=0.1, degree=3, gamma=1, kernel=poly; total time=   1.7s\n",
            "[CV] END ...C=0.1, coef0=0.1, degree=3, gamma=1, kernel=poly; total time=   1.6s\n",
            "[CV] END ..C=0.1, coef0=1, degree=3, gamma=0.01, kernel=poly; total time=   1.6s\n",
            "[CV] END ..C=0.1, coef0=1, degree=3, gamma=0.01, kernel=poly; total time=   1.6s\n",
            "[CV] END ..C=0.1, coef0=1, degree=3, gamma=0.01, kernel=poly; total time=   1.6s\n",
            "[CV] END ...C=0.1, coef0=1, degree=3, gamma=0.1, kernel=poly; total time=   1.7s\n",
            "[CV] END ...C=0.1, coef0=1, degree=3, gamma=0.1, kernel=poly; total time=   1.6s\n",
            "[CV] END ...C=0.1, coef0=1, degree=3, gamma=0.1, kernel=poly; total time=   1.6s\n",
            "[CV] END .....C=0.1, coef0=1, degree=3, gamma=1, kernel=poly; total time=   1.6s\n",
            "[CV] END .....C=0.1, coef0=1, degree=3, gamma=1, kernel=poly; total time=   1.6s\n",
            "[CV] END .....C=0.1, coef0=1, degree=3, gamma=1, kernel=poly; total time=   1.6s\n",
            "[CV] END .C=0.1, coef0=10, degree=3, gamma=0.01, kernel=poly; total time=   1.5s\n",
            "[CV] END .C=0.1, coef0=10, degree=3, gamma=0.01, kernel=poly; total time=   1.5s\n",
            "[CV] END .C=0.1, coef0=10, degree=3, gamma=0.01, kernel=poly; total time=   1.5s\n",
            "[CV] END ..C=0.1, coef0=10, degree=3, gamma=0.1, kernel=poly; total time=   1.6s\n",
            "[CV] END ..C=0.1, coef0=10, degree=3, gamma=0.1, kernel=poly; total time=   1.6s\n",
            "[CV] END ..C=0.1, coef0=10, degree=3, gamma=0.1, kernel=poly; total time=   1.6s\n",
            "[CV] END ....C=0.1, coef0=10, degree=3, gamma=1, kernel=poly; total time=   1.6s\n",
            "[CV] END ....C=0.1, coef0=10, degree=3, gamma=1, kernel=poly; total time=   1.6s\n",
            "[CV] END ....C=0.1, coef0=10, degree=3, gamma=1, kernel=poly; total time=   1.6s\n",
            "[CV] END C=0.1, coef0=100, degree=3, gamma=0.01, kernel=poly; total time=   1.5s\n",
            "[CV] END C=0.1, coef0=100, degree=3, gamma=0.01, kernel=poly; total time=   1.6s\n",
            "[CV] END C=0.1, coef0=100, degree=3, gamma=0.01, kernel=poly; total time=   1.5s\n",
            "[CV] END .C=0.1, coef0=100, degree=3, gamma=0.1, kernel=poly; total time=   1.6s\n",
            "[CV] END .C=0.1, coef0=100, degree=3, gamma=0.1, kernel=poly; total time=   1.6s\n",
            "[CV] END .C=0.1, coef0=100, degree=3, gamma=0.1, kernel=poly; total time=   1.6s\n",
            "[CV] END ...C=0.1, coef0=100, degree=3, gamma=1, kernel=poly; total time=   1.6s\n",
            "[CV] END ...C=0.1, coef0=100, degree=3, gamma=1, kernel=poly; total time=   1.6s\n",
            "[CV] END ...C=0.1, coef0=100, degree=3, gamma=1, kernel=poly; total time=   1.9s\n",
            "[CV] END .C=10, coef0=0.1, degree=3, gamma=0.01, kernel=poly; total time=   2.1s\n",
            "[CV] END .C=10, coef0=0.1, degree=3, gamma=0.01, kernel=poly; total time=   1.8s\n",
            "[CV] END .C=10, coef0=0.1, degree=3, gamma=0.01, kernel=poly; total time=   1.7s\n",
            "[CV] END ..C=10, coef0=0.1, degree=3, gamma=0.1, kernel=poly; total time=   1.6s\n",
            "[CV] END ..C=10, coef0=0.1, degree=3, gamma=0.1, kernel=poly; total time=   1.6s\n",
            "[CV] END ..C=10, coef0=0.1, degree=3, gamma=0.1, kernel=poly; total time=   1.6s\n",
            "[CV] END ....C=10, coef0=0.1, degree=3, gamma=1, kernel=poly; total time=   1.7s\n",
            "[CV] END ....C=10, coef0=0.1, degree=3, gamma=1, kernel=poly; total time=   1.7s\n",
            "[CV] END ....C=10, coef0=0.1, degree=3, gamma=1, kernel=poly; total time=   1.8s\n",
            "[CV] END ...C=10, coef0=1, degree=3, gamma=0.01, kernel=poly; total time=   1.8s\n",
            "[CV] END ...C=10, coef0=1, degree=3, gamma=0.01, kernel=poly; total time=   2.5s\n",
            "[CV] END ...C=10, coef0=1, degree=3, gamma=0.01, kernel=poly; total time=   1.9s\n",
            "[CV] END ....C=10, coef0=1, degree=3, gamma=0.1, kernel=poly; total time=   2.3s\n",
            "[CV] END ....C=10, coef0=1, degree=3, gamma=0.1, kernel=poly; total time=   2.3s\n",
            "[CV] END ....C=10, coef0=1, degree=3, gamma=0.1, kernel=poly; total time=   2.6s\n",
            "[CV] END ......C=10, coef0=1, degree=3, gamma=1, kernel=poly; total time=   2.4s\n",
            "[CV] END ......C=10, coef0=1, degree=3, gamma=1, kernel=poly; total time=   2.3s\n",
            "[CV] END ......C=10, coef0=1, degree=3, gamma=1, kernel=poly; total time=   2.5s\n",
            "[CV] END ..C=10, coef0=10, degree=3, gamma=0.01, kernel=poly; total time=   2.0s\n",
            "[CV] END ..C=10, coef0=10, degree=3, gamma=0.01, kernel=poly; total time=   1.9s\n",
            "[CV] END ..C=10, coef0=10, degree=3, gamma=0.01, kernel=poly; total time=   1.9s\n",
            "[CV] END ...C=10, coef0=10, degree=3, gamma=0.1, kernel=poly; total time=   1.9s\n",
            "[CV] END ...C=10, coef0=10, degree=3, gamma=0.1, kernel=poly; total time=   1.8s\n",
            "[CV] END ...C=10, coef0=10, degree=3, gamma=0.1, kernel=poly; total time=   1.6s\n",
            "[CV] END .....C=10, coef0=10, degree=3, gamma=1, kernel=poly; total time=   1.6s\n",
            "[CV] END .....C=10, coef0=10, degree=3, gamma=1, kernel=poly; total time=   1.5s\n",
            "[CV] END .....C=10, coef0=10, degree=3, gamma=1, kernel=poly; total time=   1.8s\n",
            "[CV] END .C=10, coef0=100, degree=3, gamma=0.01, kernel=poly; total time=   1.5s\n",
            "[CV] END .C=10, coef0=100, degree=3, gamma=0.01, kernel=poly; total time=   1.5s\n",
            "[CV] END .C=10, coef0=100, degree=3, gamma=0.01, kernel=poly; total time=   1.5s\n",
            "[CV] END ..C=10, coef0=100, degree=3, gamma=0.1, kernel=poly; total time=   1.5s\n",
            "[CV] END ..C=10, coef0=100, degree=3, gamma=0.1, kernel=poly; total time=   1.5s\n",
            "[CV] END ..C=10, coef0=100, degree=3, gamma=0.1, kernel=poly; total time=   1.5s\n",
            "[CV] END ....C=10, coef0=100, degree=3, gamma=1, kernel=poly; total time=   1.6s\n",
            "[CV] END ....C=10, coef0=100, degree=3, gamma=1, kernel=poly; total time=   1.5s\n",
            "[CV] END ....C=10, coef0=100, degree=3, gamma=1, kernel=poly; total time=   1.5s\n",
            "[CV] END C=100, coef0=0.1, degree=3, gamma=0.01, kernel=poly; total time=   1.6s\n",
            "[CV] END C=100, coef0=0.1, degree=3, gamma=0.01, kernel=poly; total time=   1.6s\n",
            "[CV] END C=100, coef0=0.1, degree=3, gamma=0.01, kernel=poly; total time=   1.6s\n",
            "[CV] END .C=100, coef0=0.1, degree=3, gamma=0.1, kernel=poly; total time=   1.6s\n",
            "[CV] END .C=100, coef0=0.1, degree=3, gamma=0.1, kernel=poly; total time=   1.6s\n",
            "[CV] END .C=100, coef0=0.1, degree=3, gamma=0.1, kernel=poly; total time=   1.6s\n",
            "[CV] END ...C=100, coef0=0.1, degree=3, gamma=1, kernel=poly; total time=   1.6s\n",
            "[CV] END ...C=100, coef0=0.1, degree=3, gamma=1, kernel=poly; total time=   1.6s\n",
            "[CV] END ...C=100, coef0=0.1, degree=3, gamma=1, kernel=poly; total time=   1.6s\n",
            "[CV] END ..C=100, coef0=1, degree=3, gamma=0.01, kernel=poly; total time=   1.5s\n",
            "[CV] END ..C=100, coef0=1, degree=3, gamma=0.01, kernel=poly; total time=   1.6s\n",
            "[CV] END ..C=100, coef0=1, degree=3, gamma=0.01, kernel=poly; total time=   1.6s\n",
            "[CV] END ...C=100, coef0=1, degree=3, gamma=0.1, kernel=poly; total time=   1.6s\n",
            "[CV] END ...C=100, coef0=1, degree=3, gamma=0.1, kernel=poly; total time=   1.5s\n",
            "[CV] END ...C=100, coef0=1, degree=3, gamma=0.1, kernel=poly; total time=   1.5s\n",
            "[CV] END .....C=100, coef0=1, degree=3, gamma=1, kernel=poly; total time=   1.6s\n",
            "[CV] END .....C=100, coef0=1, degree=3, gamma=1, kernel=poly; total time=   1.6s\n",
            "[CV] END .....C=100, coef0=1, degree=3, gamma=1, kernel=poly; total time=   1.6s\n",
            "[CV] END .C=100, coef0=10, degree=3, gamma=0.01, kernel=poly; total time=   1.5s\n",
            "[CV] END .C=100, coef0=10, degree=3, gamma=0.01, kernel=poly; total time=   1.5s\n",
            "[CV] END .C=100, coef0=10, degree=3, gamma=0.01, kernel=poly; total time=   1.5s\n",
            "[CV] END ..C=100, coef0=10, degree=3, gamma=0.1, kernel=poly; total time=   1.5s\n",
            "[CV] END ..C=100, coef0=10, degree=3, gamma=0.1, kernel=poly; total time=   1.5s\n",
            "[CV] END ..C=100, coef0=10, degree=3, gamma=0.1, kernel=poly; total time=   1.5s\n",
            "[CV] END ....C=100, coef0=10, degree=3, gamma=1, kernel=poly; total time=   1.5s\n",
            "[CV] END ....C=100, coef0=10, degree=3, gamma=1, kernel=poly; total time=   1.6s\n",
            "[CV] END ....C=100, coef0=10, degree=3, gamma=1, kernel=poly; total time=   1.6s\n",
            "[CV] END C=100, coef0=100, degree=3, gamma=0.01, kernel=poly; total time=   1.5s\n",
            "[CV] END C=100, coef0=100, degree=3, gamma=0.01, kernel=poly; total time=   1.5s\n",
            "[CV] END C=100, coef0=100, degree=3, gamma=0.01, kernel=poly; total time=   1.5s\n",
            "[CV] END .C=100, coef0=100, degree=3, gamma=0.1, kernel=poly; total time=   1.5s\n",
            "[CV] END .C=100, coef0=100, degree=3, gamma=0.1, kernel=poly; total time=   1.5s\n",
            "[CV] END .C=100, coef0=100, degree=3, gamma=0.1, kernel=poly; total time=   1.5s\n",
            "[CV] END ...C=100, coef0=100, degree=3, gamma=1, kernel=poly; total time=   1.6s\n",
            "[CV] END ...C=100, coef0=100, degree=3, gamma=1, kernel=poly; total time=   1.6s\n",
            "[CV] END ...C=100, coef0=100, degree=3, gamma=1, kernel=poly; total time=   1.7s\n"
          ]
        },
        {
          "data": {
            "text/html": [
              "<style>#sk-container-id-5 {color: black;background-color: white;}#sk-container-id-5 pre{padding: 0;}#sk-container-id-5 div.sk-toggleable {background-color: white;}#sk-container-id-5 label.sk-toggleable__label {cursor: pointer;display: block;width: 100%;margin-bottom: 0;padding: 0.3em;box-sizing: border-box;text-align: center;}#sk-container-id-5 label.sk-toggleable__label-arrow:before {content: \"▸\";float: left;margin-right: 0.25em;color: #696969;}#sk-container-id-5 label.sk-toggleable__label-arrow:hover:before {color: black;}#sk-container-id-5 div.sk-estimator:hover label.sk-toggleable__label-arrow:before {color: black;}#sk-container-id-5 div.sk-toggleable__content {max-height: 0;max-width: 0;overflow: hidden;text-align: left;background-color: #f0f8ff;}#sk-container-id-5 div.sk-toggleable__content pre {margin: 0.2em;color: black;border-radius: 0.25em;background-color: #f0f8ff;}#sk-container-id-5 input.sk-toggleable__control:checked~div.sk-toggleable__content {max-height: 200px;max-width: 100%;overflow: auto;}#sk-container-id-5 input.sk-toggleable__control:checked~label.sk-toggleable__label-arrow:before {content: \"▾\";}#sk-container-id-5 div.sk-estimator input.sk-toggleable__control:checked~label.sk-toggleable__label {background-color: #d4ebff;}#sk-container-id-5 div.sk-label input.sk-toggleable__control:checked~label.sk-toggleable__label {background-color: #d4ebff;}#sk-container-id-5 input.sk-hidden--visually {border: 0;clip: rect(1px 1px 1px 1px);clip: rect(1px, 1px, 1px, 1px);height: 1px;margin: -1px;overflow: hidden;padding: 0;position: absolute;width: 1px;}#sk-container-id-5 div.sk-estimator {font-family: monospace;background-color: #f0f8ff;border: 1px dotted black;border-radius: 0.25em;box-sizing: border-box;margin-bottom: 0.5em;}#sk-container-id-5 div.sk-estimator:hover {background-color: #d4ebff;}#sk-container-id-5 div.sk-parallel-item::after {content: \"\";width: 100%;border-bottom: 1px solid gray;flex-grow: 1;}#sk-container-id-5 div.sk-label:hover label.sk-toggleable__label {background-color: #d4ebff;}#sk-container-id-5 div.sk-serial::before {content: \"\";position: absolute;border-left: 1px solid gray;box-sizing: border-box;top: 0;bottom: 0;left: 50%;z-index: 0;}#sk-container-id-5 div.sk-serial {display: flex;flex-direction: column;align-items: center;background-color: white;padding-right: 0.2em;padding-left: 0.2em;position: relative;}#sk-container-id-5 div.sk-item {position: relative;z-index: 1;}#sk-container-id-5 div.sk-parallel {display: flex;align-items: stretch;justify-content: center;background-color: white;position: relative;}#sk-container-id-5 div.sk-item::before, #sk-container-id-5 div.sk-parallel-item::before {content: \"\";position: absolute;border-left: 1px solid gray;box-sizing: border-box;top: 0;bottom: 0;left: 50%;z-index: -1;}#sk-container-id-5 div.sk-parallel-item {display: flex;flex-direction: column;z-index: 1;position: relative;background-color: white;}#sk-container-id-5 div.sk-parallel-item:first-child::after {align-self: flex-end;width: 50%;}#sk-container-id-5 div.sk-parallel-item:last-child::after {align-self: flex-start;width: 50%;}#sk-container-id-5 div.sk-parallel-item:only-child::after {width: 0;}#sk-container-id-5 div.sk-dashed-wrapped {border: 1px dashed gray;margin: 0 0.4em 0.5em 0.4em;box-sizing: border-box;padding-bottom: 0.4em;background-color: white;}#sk-container-id-5 div.sk-label label {font-family: monospace;font-weight: bold;display: inline-block;line-height: 1.2em;}#sk-container-id-5 div.sk-label-container {text-align: center;}#sk-container-id-5 div.sk-container {/* jupyter's `normalize.less` sets `[hidden] { display: none; }` but bootstrap.min.css set `[hidden] { display: none !important; }` so we also need the `!important` here to be able to override the default hidden behavior on the sphinx rendered scikit-learn.org. See: https://github.com/scikit-learn/scikit-learn/issues/21755 */display: inline-block !important;position: relative;}#sk-container-id-5 div.sk-text-repr-fallback {display: none;}</style><div id=\"sk-container-id-5\" class=\"sk-top-container\"><div class=\"sk-text-repr-fallback\"><pre>GridSearchCV(cv=3, estimator=xSVMC(),\n",
              "             param_grid={&#x27;C&#x27;: [1, 0.1, 10, 100], &#x27;coef0&#x27;: [0.1, 1, 10, 100],\n",
              "                         &#x27;degree&#x27;: [3], &#x27;gamma&#x27;: [0.01, 0.1, 1],\n",
              "                         &#x27;kernel&#x27;: [&#x27;poly&#x27;]},\n",
              "             verbose=2)</pre><b>In a Jupyter environment, please rerun this cell to show the HTML representation or trust the notebook. <br />On GitHub, the HTML representation is unable to render, please try loading this page with nbviewer.org.</b></div><div class=\"sk-container\" hidden><div class=\"sk-item sk-dashed-wrapped\"><div class=\"sk-label-container\"><div class=\"sk-label sk-toggleable\"><input class=\"sk-toggleable__control sk-hidden--visually\" id=\"sk-estimator-id-7\" type=\"checkbox\" ><label for=\"sk-estimator-id-7\" class=\"sk-toggleable__label sk-toggleable__label-arrow\">GridSearchCV</label><div class=\"sk-toggleable__content\"><pre>GridSearchCV(cv=3, estimator=xSVMC(),\n",
              "             param_grid={&#x27;C&#x27;: [1, 0.1, 10, 100], &#x27;coef0&#x27;: [0.1, 1, 10, 100],\n",
              "                         &#x27;degree&#x27;: [3], &#x27;gamma&#x27;: [0.01, 0.1, 1],\n",
              "                         &#x27;kernel&#x27;: [&#x27;poly&#x27;]},\n",
              "             verbose=2)</pre></div></div></div><div class=\"sk-parallel\"><div class=\"sk-parallel-item\"><div class=\"sk-item\"><div class=\"sk-label-container\"><div class=\"sk-label sk-toggleable\"><input class=\"sk-toggleable__control sk-hidden--visually\" id=\"sk-estimator-id-8\" type=\"checkbox\" ><label for=\"sk-estimator-id-8\" class=\"sk-toggleable__label sk-toggleable__label-arrow\">estimator: xSVMC</label><div class=\"sk-toggleable__content\"><pre>xSVMC()</pre></div></div></div><div class=\"sk-serial\"><div class=\"sk-item\"><div class=\"sk-estimator sk-toggleable\"><input class=\"sk-toggleable__control sk-hidden--visually\" id=\"sk-estimator-id-9\" type=\"checkbox\" ><label for=\"sk-estimator-id-9\" class=\"sk-toggleable__label sk-toggleable__label-arrow\">xSVMC</label><div class=\"sk-toggleable__content\"><pre>xSVMC()</pre></div></div></div></div></div></div></div></div></div></div>"
            ],
            "text/plain": [
              "GridSearchCV(cv=3, estimator=xSVMC(),\n",
              "             param_grid={'C': [1, 0.1, 10, 100], 'coef0': [0.1, 1, 10, 100],\n",
              "                         'degree': [3], 'gamma': [0.01, 0.1, 1],\n",
              "                         'kernel': ['poly']},\n",
              "             verbose=2)"
            ]
          },
          "execution_count": 22,
          "metadata": {},
          "output_type": "execute_result"
        }
      ],
      "source": [
        "# grid = GridSearchCV(xSVMC(), param_grid, cv=3, verbose=2)\n",
        "# grid.fit(X_train,y_train)"
      ]
    },
    {
      "cell_type": "code",
      "execution_count": 23,
      "metadata": {
        "id": "iBfRphw8gQcg"
      },
      "outputs": [
        {
          "data": {
            "text/html": [
              "<style>#sk-container-id-6 {color: black;background-color: white;}#sk-container-id-6 pre{padding: 0;}#sk-container-id-6 div.sk-toggleable {background-color: white;}#sk-container-id-6 label.sk-toggleable__label {cursor: pointer;display: block;width: 100%;margin-bottom: 0;padding: 0.3em;box-sizing: border-box;text-align: center;}#sk-container-id-6 label.sk-toggleable__label-arrow:before {content: \"▸\";float: left;margin-right: 0.25em;color: #696969;}#sk-container-id-6 label.sk-toggleable__label-arrow:hover:before {color: black;}#sk-container-id-6 div.sk-estimator:hover label.sk-toggleable__label-arrow:before {color: black;}#sk-container-id-6 div.sk-toggleable__content {max-height: 0;max-width: 0;overflow: hidden;text-align: left;background-color: #f0f8ff;}#sk-container-id-6 div.sk-toggleable__content pre {margin: 0.2em;color: black;border-radius: 0.25em;background-color: #f0f8ff;}#sk-container-id-6 input.sk-toggleable__control:checked~div.sk-toggleable__content {max-height: 200px;max-width: 100%;overflow: auto;}#sk-container-id-6 input.sk-toggleable__control:checked~label.sk-toggleable__label-arrow:before {content: \"▾\";}#sk-container-id-6 div.sk-estimator input.sk-toggleable__control:checked~label.sk-toggleable__label {background-color: #d4ebff;}#sk-container-id-6 div.sk-label input.sk-toggleable__control:checked~label.sk-toggleable__label {background-color: #d4ebff;}#sk-container-id-6 input.sk-hidden--visually {border: 0;clip: rect(1px 1px 1px 1px);clip: rect(1px, 1px, 1px, 1px);height: 1px;margin: -1px;overflow: hidden;padding: 0;position: absolute;width: 1px;}#sk-container-id-6 div.sk-estimator {font-family: monospace;background-color: #f0f8ff;border: 1px dotted black;border-radius: 0.25em;box-sizing: border-box;margin-bottom: 0.5em;}#sk-container-id-6 div.sk-estimator:hover {background-color: #d4ebff;}#sk-container-id-6 div.sk-parallel-item::after {content: \"\";width: 100%;border-bottom: 1px solid gray;flex-grow: 1;}#sk-container-id-6 div.sk-label:hover label.sk-toggleable__label {background-color: #d4ebff;}#sk-container-id-6 div.sk-serial::before {content: \"\";position: absolute;border-left: 1px solid gray;box-sizing: border-box;top: 0;bottom: 0;left: 50%;z-index: 0;}#sk-container-id-6 div.sk-serial {display: flex;flex-direction: column;align-items: center;background-color: white;padding-right: 0.2em;padding-left: 0.2em;position: relative;}#sk-container-id-6 div.sk-item {position: relative;z-index: 1;}#sk-container-id-6 div.sk-parallel {display: flex;align-items: stretch;justify-content: center;background-color: white;position: relative;}#sk-container-id-6 div.sk-item::before, #sk-container-id-6 div.sk-parallel-item::before {content: \"\";position: absolute;border-left: 1px solid gray;box-sizing: border-box;top: 0;bottom: 0;left: 50%;z-index: -1;}#sk-container-id-6 div.sk-parallel-item {display: flex;flex-direction: column;z-index: 1;position: relative;background-color: white;}#sk-container-id-6 div.sk-parallel-item:first-child::after {align-self: flex-end;width: 50%;}#sk-container-id-6 div.sk-parallel-item:last-child::after {align-self: flex-start;width: 50%;}#sk-container-id-6 div.sk-parallel-item:only-child::after {width: 0;}#sk-container-id-6 div.sk-dashed-wrapped {border: 1px dashed gray;margin: 0 0.4em 0.5em 0.4em;box-sizing: border-box;padding-bottom: 0.4em;background-color: white;}#sk-container-id-6 div.sk-label label {font-family: monospace;font-weight: bold;display: inline-block;line-height: 1.2em;}#sk-container-id-6 div.sk-label-container {text-align: center;}#sk-container-id-6 div.sk-container {/* jupyter's `normalize.less` sets `[hidden] { display: none; }` but bootstrap.min.css set `[hidden] { display: none !important; }` so we also need the `!important` here to be able to override the default hidden behavior on the sphinx rendered scikit-learn.org. See: https://github.com/scikit-learn/scikit-learn/issues/21755 */display: inline-block !important;position: relative;}#sk-container-id-6 div.sk-text-repr-fallback {display: none;}</style><div id=\"sk-container-id-6\" class=\"sk-top-container\"><div class=\"sk-text-repr-fallback\"><pre>xSVMC(C=1, coef0=0.1, gamma=1, kernel=&#x27;poly&#x27;)</pre><b>In a Jupyter environment, please rerun this cell to show the HTML representation or trust the notebook. <br />On GitHub, the HTML representation is unable to render, please try loading this page with nbviewer.org.</b></div><div class=\"sk-container\" hidden><div class=\"sk-item\"><div class=\"sk-estimator sk-toggleable\"><input class=\"sk-toggleable__control sk-hidden--visually\" id=\"sk-estimator-id-10\" type=\"checkbox\" checked><label for=\"sk-estimator-id-10\" class=\"sk-toggleable__label sk-toggleable__label-arrow\">xSVMC</label><div class=\"sk-toggleable__content\"><pre>xSVMC(C=1, coef0=0.1, gamma=1, kernel=&#x27;poly&#x27;)</pre></div></div></div></div></div>"
            ],
            "text/plain": [
              "xSVMC(C=1, coef0=0.1, gamma=1, kernel='poly')"
            ]
          },
          "execution_count": 23,
          "metadata": {},
          "output_type": "execute_result"
        }
      ],
      "source": [
        "# grid.best_estimator_"
      ]
    },
    {
      "cell_type": "code",
      "execution_count": 36,
      "metadata": {
        "colab": {
          "base_uri": "https://localhost:8080/"
        },
        "id": "cODNNRYHgSgV",
        "outputId": "3e4f6537-149d-4806-907e-c4850f227f7b"
      },
      "outputs": [
        {
          "data": {
            "text/html": [
              "<style>#sk-container-id-11 {color: black;background-color: white;}#sk-container-id-11 pre{padding: 0;}#sk-container-id-11 div.sk-toggleable {background-color: white;}#sk-container-id-11 label.sk-toggleable__label {cursor: pointer;display: block;width: 100%;margin-bottom: 0;padding: 0.3em;box-sizing: border-box;text-align: center;}#sk-container-id-11 label.sk-toggleable__label-arrow:before {content: \"▸\";float: left;margin-right: 0.25em;color: #696969;}#sk-container-id-11 label.sk-toggleable__label-arrow:hover:before {color: black;}#sk-container-id-11 div.sk-estimator:hover label.sk-toggleable__label-arrow:before {color: black;}#sk-container-id-11 div.sk-toggleable__content {max-height: 0;max-width: 0;overflow: hidden;text-align: left;background-color: #f0f8ff;}#sk-container-id-11 div.sk-toggleable__content pre {margin: 0.2em;color: black;border-radius: 0.25em;background-color: #f0f8ff;}#sk-container-id-11 input.sk-toggleable__control:checked~div.sk-toggleable__content {max-height: 200px;max-width: 100%;overflow: auto;}#sk-container-id-11 input.sk-toggleable__control:checked~label.sk-toggleable__label-arrow:before {content: \"▾\";}#sk-container-id-11 div.sk-estimator input.sk-toggleable__control:checked~label.sk-toggleable__label {background-color: #d4ebff;}#sk-container-id-11 div.sk-label input.sk-toggleable__control:checked~label.sk-toggleable__label {background-color: #d4ebff;}#sk-container-id-11 input.sk-hidden--visually {border: 0;clip: rect(1px 1px 1px 1px);clip: rect(1px, 1px, 1px, 1px);height: 1px;margin: -1px;overflow: hidden;padding: 0;position: absolute;width: 1px;}#sk-container-id-11 div.sk-estimator {font-family: monospace;background-color: #f0f8ff;border: 1px dotted black;border-radius: 0.25em;box-sizing: border-box;margin-bottom: 0.5em;}#sk-container-id-11 div.sk-estimator:hover {background-color: #d4ebff;}#sk-container-id-11 div.sk-parallel-item::after {content: \"\";width: 100%;border-bottom: 1px solid gray;flex-grow: 1;}#sk-container-id-11 div.sk-label:hover label.sk-toggleable__label {background-color: #d4ebff;}#sk-container-id-11 div.sk-serial::before {content: \"\";position: absolute;border-left: 1px solid gray;box-sizing: border-box;top: 0;bottom: 0;left: 50%;z-index: 0;}#sk-container-id-11 div.sk-serial {display: flex;flex-direction: column;align-items: center;background-color: white;padding-right: 0.2em;padding-left: 0.2em;position: relative;}#sk-container-id-11 div.sk-item {position: relative;z-index: 1;}#sk-container-id-11 div.sk-parallel {display: flex;align-items: stretch;justify-content: center;background-color: white;position: relative;}#sk-container-id-11 div.sk-item::before, #sk-container-id-11 div.sk-parallel-item::before {content: \"\";position: absolute;border-left: 1px solid gray;box-sizing: border-box;top: 0;bottom: 0;left: 50%;z-index: -1;}#sk-container-id-11 div.sk-parallel-item {display: flex;flex-direction: column;z-index: 1;position: relative;background-color: white;}#sk-container-id-11 div.sk-parallel-item:first-child::after {align-self: flex-end;width: 50%;}#sk-container-id-11 div.sk-parallel-item:last-child::after {align-self: flex-start;width: 50%;}#sk-container-id-11 div.sk-parallel-item:only-child::after {width: 0;}#sk-container-id-11 div.sk-dashed-wrapped {border: 1px dashed gray;margin: 0 0.4em 0.5em 0.4em;box-sizing: border-box;padding-bottom: 0.4em;background-color: white;}#sk-container-id-11 div.sk-label label {font-family: monospace;font-weight: bold;display: inline-block;line-height: 1.2em;}#sk-container-id-11 div.sk-label-container {text-align: center;}#sk-container-id-11 div.sk-container {/* jupyter's `normalize.less` sets `[hidden] { display: none; }` but bootstrap.min.css set `[hidden] { display: none !important; }` so we also need the `!important` here to be able to override the default hidden behavior on the sphinx rendered scikit-learn.org. See: https://github.com/scikit-learn/scikit-learn/issues/21755 */display: inline-block !important;position: relative;}#sk-container-id-11 div.sk-text-repr-fallback {display: none;}</style><div id=\"sk-container-id-11\" class=\"sk-top-container\"><div class=\"sk-text-repr-fallback\"><pre>xSVMC(C=1, coef0=0.1, gamma=0.1, k=3, kernel=&#x27;poly&#x27;, random_state=42)</pre><b>In a Jupyter environment, please rerun this cell to show the HTML representation or trust the notebook. <br />On GitHub, the HTML representation is unable to render, please try loading this page with nbviewer.org.</b></div><div class=\"sk-container\" hidden><div class=\"sk-item\"><div class=\"sk-estimator sk-toggleable\"><input class=\"sk-toggleable__control sk-hidden--visually\" id=\"sk-estimator-id-15\" type=\"checkbox\" checked><label for=\"sk-estimator-id-15\" class=\"sk-toggleable__label sk-toggleable__label-arrow\">xSVMC</label><div class=\"sk-toggleable__content\"><pre>xSVMC(C=1, coef0=0.1, gamma=0.1, k=3, kernel=&#x27;poly&#x27;, random_state=42)</pre></div></div></div></div></div>"
            ],
            "text/plain": [
              "xSVMC(C=1, coef0=0.1, gamma=0.1, k=3, kernel='poly', random_state=42)"
            ]
          },
          "execution_count": 36,
          "metadata": {},
          "output_type": "execute_result"
        }
      ],
      "source": [
        "#Best parameter\n",
        "kernel = \"poly\"\n",
        "gamma = 0.1\n",
        "C =  1\n",
        "k = 3\n",
        "coef0 = 0.1\n",
        "clf = xSVMC(kernel=kernel, C=C, gamma=gamma, k=k, coef0=coef0, random_state=RANDOM_STATE)\n",
        "clf.fit(X_train, y_train)"
      ]
    },
    {
      "cell_type": "code",
      "execution_count": null,
      "metadata": {
        "id": "YdXX4Wh3gYlm"
      },
      "outputs": [],
      "source": [
        "SVs = clf.support_vectors_"
      ]
    },
    {
      "cell_type": "code",
      "execution_count": 37,
      "metadata": {},
      "outputs": [
        {
          "data": {
            "text/plain": [
              "array([[38,  0, 33,  5,  3,  0,  2],\n",
              "       [ 3, 26, 20,  0,  0,  0,  3],\n",
              "       [16,  7, 74,  2,  4,  0,  5],\n",
              "       [21,  1, 16,  1,  1,  0,  0],\n",
              "       [18,  1, 11,  2,  2,  0,  1],\n",
              "       [ 2,  0,  6,  1,  1,  0,  0],\n",
              "       [ 3,  6, 18,  0,  0,  0, 13]], dtype=int64)"
            ]
          },
          "execution_count": 37,
          "metadata": {},
          "output_type": "execute_result"
        }
      ],
      "source": [
        "confusion_matrix(y_test, clf.predict(X_test))"
      ]
    },
    {
      "cell_type": "code",
      "execution_count": 38,
      "metadata": {},
      "outputs": [
        {
          "name": "stdout",
          "output_type": "stream",
          "text": [
            "                precision    recall  f1-score   support\n",
            "\n",
            "      Alianzas       0.38      0.47      0.42        81\n",
            "    Innovacion       0.63      0.50      0.56        52\n",
            " Macroeconomia       0.42      0.69      0.52       108\n",
            "          Otra       0.09      0.03      0.04        40\n",
            "  Regulaciones       0.18      0.06      0.09        35\n",
            "    Reputacion       0.00      0.00      0.00        10\n",
            "Sostenibilidad       0.54      0.33      0.41        40\n",
            "\n",
            "      accuracy                           0.42       366\n",
            "     macro avg       0.32      0.29      0.29       366\n",
            "  weighted avg       0.38      0.42      0.38       366\n",
            "\n"
          ]
        },
        {
          "name": "stderr",
          "output_type": "stream",
          "text": [
            "d:\\Github Projects\\back_news_classifier\\.env\\lib\\site-packages\\sklearn\\metrics\\_classification.py:1344: UndefinedMetricWarning: Precision and F-score are ill-defined and being set to 0.0 in labels with no predicted samples. Use `zero_division` parameter to control this behavior.\n",
            "  _warn_prf(average, modifier, msg_start, len(result))\n",
            "d:\\Github Projects\\back_news_classifier\\.env\\lib\\site-packages\\sklearn\\metrics\\_classification.py:1344: UndefinedMetricWarning: Precision and F-score are ill-defined and being set to 0.0 in labels with no predicted samples. Use `zero_division` parameter to control this behavior.\n",
            "  _warn_prf(average, modifier, msg_start, len(result))\n",
            "d:\\Github Projects\\back_news_classifier\\.env\\lib\\site-packages\\sklearn\\metrics\\_classification.py:1344: UndefinedMetricWarning: Precision and F-score are ill-defined and being set to 0.0 in labels with no predicted samples. Use `zero_division` parameter to control this behavior.\n",
            "  _warn_prf(average, modifier, msg_start, len(result))\n"
          ]
        }
      ],
      "source": [
        "print(classification_report(y_test, clf.predict(X_test)))"
      ]
    },
    {
      "cell_type": "code",
      "execution_count": 40,
      "metadata": {},
      "outputs": [
        {
          "data": {
            "text/plain": [
              "['./xsvmc.joblib']"
            ]
          },
          "execution_count": 40,
          "metadata": {},
          "output_type": "execute_result"
        }
      ],
      "source": [
        "dump(clf, \"./xsvmc.joblib\")"
      ]
    },
    {
      "cell_type": "code",
      "execution_count": null,
      "metadata": {
        "id": "OXr3qPFugosl"
      },
      "outputs": [],
      "source": [
        "colormap = LinearSegmentedColormap.from_list('custom', \n",
        "                                       [(0, '#162cd9'),\n",
        "                                        (1,   '#f2271f')], N=256)"
      ]
    },
    {
      "cell_type": "code",
      "execution_count": null,
      "metadata": {
        "id": "TQO54nzI161z"
      },
      "outputs": [],
      "source": [
        "def draw_text(draw_obj, text, pos_x, pos_y, prob, font):\n",
        "  color = colormap(prob)[:3]\n",
        "  draw_obj.text((pos_x, pos_y), text, fill=(int(color[0] * 255), int(color[1] * 255), int(color[2] * 255), 255), font=font)"
      ]
    },
    {
      "cell_type": "code",
      "execution_count": null,
      "metadata": {
        "id": "-UgelN6Qgppa"
      },
      "outputs": [],
      "source": [
        "def create_img(l_text, prob, path, y_size):\n",
        "  offset_y = 10\n",
        "  offset_x = 10\n",
        "  img_x = 800\n",
        "  img_y = 600\n",
        "\n",
        "  img = Image.new(mode=\"RGBA\", size=(img_x, img_y), color = (255, 255, 255))\n",
        "  txt = Image.new('RGBA', img.size, (255,255,255,0))\n",
        "  draw = ImageDraw.Draw(txt)\n",
        "  font = ImageFont.truetype(\"fonts\\SpaceMono-Bold.ttf\", 16)\n",
        "\n",
        "  last_pos_x = 0\n",
        "  combined = 0\n",
        "  pos_y = 0\n",
        "  for i in range(len(l_text)):\n",
        "    palabra = l_text[i]\n",
        "    if palabra.startswith(\"##\"):\n",
        "      palabra = palabra[2:]\n",
        "      pos_x = (len(palabra)) * 10\n",
        "    elif palabra not in [\".\", \",\"]:\n",
        "      palabra = \" \" + palabra\n",
        "      pos_x = (len(palabra)) * 10\n",
        "      if last_pos_x + pos_x + offset_x >= img_x - 70:\n",
        "        pos_y += 18\n",
        "        last_pos_x = 0\n",
        "    else:\n",
        "      pos_x = (len(palabra)) * 10\n",
        "\n",
        "    draw_text(draw, palabra, last_pos_x + offset_x, pos_y + offset_y, prob[i], font)\n",
        "    last_pos_x += pos_x\n",
        "\n",
        "  combined = Image.alpha_composite(img, txt)\n",
        "  combined.save(path)"
      ]
    },
    {
      "cell_type": "code",
      "execution_count": null,
      "metadata": {},
      "outputs": [],
      "source": [
        "def render_text(text, idx, mu_misv, nu_misv, save_name):\n",
        "  y_size = int(len(text) / 60 * 25)\n",
        "  values_yes = mu_misv\n",
        "  max_yes = max(values_yes)\n",
        "  prob_yes = (values_yes / max_yes)\n",
        "  create_img(text, prob_yes, \"./out-%s.png\" % save_name, y_size)"
      ]
    },
    {
      "cell_type": "code",
      "execution_count": null,
      "metadata": {
        "id": "t_bgG3_Fslvx"
      },
      "outputs": [],
      "source": [
        "def preprocess_text(text):\n",
        "  encoded_input = tokenizer(text, return_tensors='tf')\n",
        "  tokens = encoded_input.input_ids[0]\n",
        "  ready_tokens = pad_sequences(token_ids, padding=\"post\", maxlen=max_len)[0]\n",
        "  text_tokens = tokenizer.convert_ids_to_tokens(ready_tokens)\n",
        "  return ready_tokens, text_tokens, len(tokens)"
      ]
    },
    {
      "cell_type": "code",
      "execution_count": null,
      "metadata": {
        "id": "29f82AtbsZfP"
      },
      "outputs": [],
      "source": [
        "def contextualized_prediction(text):\n",
        "  tokens, text_tokens, original_len = preprocess_text(text)\n",
        "  clean_text = text_tokens[1:original_len-1]\n",
        "  topK = clf.predict_with_context(tokens)\n",
        "  print(len(topK))\n",
        "  for i in range(len(topK)):\n",
        "    pred = topK[i]\n",
        "    mu_misv = SVs[pred.eval.mu_hat.misv_idx][1:original_len-1]\n",
        "    nu_misv = SVs[pred.eval.nu_hat.misv_idx][1:original_len-1]\n",
        "    render_text(clean_text, idx, mu_misv, nu_misv, \"%d-favor\" % i)"
      ]
    }
  ],
  "metadata": {
    "accelerator": "GPU",
    "colab": {
      "provenance": []
    },
    "gpuClass": "standard",
    "kernelspec": {
      "display_name": ".env",
      "language": "python",
      "name": "python3"
    },
    "language_info": {
      "codemirror_mode": {
        "name": "ipython",
        "version": 3
      },
      "file_extension": ".py",
      "mimetype": "text/x-python",
      "name": "python",
      "nbconvert_exporter": "python",
      "pygments_lexer": "ipython3",
      "version": "3.10.7 (tags/v3.10.7:6cc6b13, Sep  5 2022, 14:08:36) [MSC v.1933 64 bit (AMD64)]"
    },
    "vscode": {
      "interpreter": {
        "hash": "ec6b06e5bc4c5f6ce1646a63b0691f1cfc5dc8353032fc2e57227de459466c99"
      }
    }
  },
  "nbformat": 4,
  "nbformat_minor": 0
}
