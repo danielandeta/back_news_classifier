{
  "cells": [
    {
      "cell_type": "code",
      "execution_count": 50,
      "metadata": {
        "id": "ARSMXgKyOn-R"
      },
      "outputs": [],
      "source": [
        "from transformers import BertTokenizer\n",
        "import tensorflow as tf\n",
        "from keras.utils import pad_sequences\n",
        "import pandas as pd\n",
        "from sklearn.model_selection import train_test_split\n",
        "from matplotlib.colors import LinearSegmentedColormap\n",
        "from sklearn.model_selection import GridSearchCV\n",
        "from sklearn.metrics import confusion_matrix, classification_report\n",
        "from sklearn.pipeline import make_pipeline\n",
        "from sklearn.preprocessing import MinMaxScaler\n",
        "from PIL import Image, ImageFont, ImageDraw\n",
        "import numpy as np\n",
        "from xsvmlib.xsvmc import xSVMC\n",
        "from joblib import dump, load\n",
        "import base64\n",
        "from io import BytesIO"
      ]
    },
    {
      "cell_type": "code",
      "execution_count": 2,
      "metadata": {
        "id": "ed0BREFcX6Rf"
      },
      "outputs": [],
      "source": [
        "RANDOM_STATE = 42"
      ]
    },
    {
      "cell_type": "code",
      "execution_count": 3,
      "metadata": {
        "id": "PhgTIVFIWWYl"
      },
      "outputs": [],
      "source": [
        "df_news = pd.read_csv(\"./data/df_total.csv\")"
      ]
    },
    {
      "cell_type": "code",
      "execution_count": 4,
      "metadata": {
        "id": "AU2_SN4OWfAd"
      },
      "outputs": [],
      "source": [
        "sentences = df_news.news.values"
      ]
    },
    {
      "cell_type": "code",
      "execution_count": 5,
      "metadata": {
        "colab": {
          "base_uri": "https://localhost:8080/"
        },
        "id": "iph6tfeWxrJZ",
        "outputId": "60523228-1e06-43e9-9b6f-7cf296d15ccf"
      },
      "outputs": [
        {
          "data": {
            "text/plain": [
              "array(['Otra', 'Regulaciones', 'Alianzas', 'Macroeconomia', 'Innovacion',\n",
              "       'Sostenibilidad', 'Reputacion'], dtype=object)"
            ]
          },
          "execution_count": 5,
          "metadata": {},
          "output_type": "execute_result"
        }
      ],
      "source": [
        "df_news.Type.unique()"
      ]
    },
    {
      "cell_type": "code",
      "execution_count": 6,
      "metadata": {
        "id": "erwAfi921XXi"
      },
      "outputs": [],
      "source": [
        "tokenizer = BertTokenizer.from_pretrained('bert-base-multilingual-cased', do_lower_case=True)"
      ]
    },
    {
      "cell_type": "code",
      "execution_count": 7,
      "metadata": {
        "colab": {
          "base_uri": "https://localhost:8080/"
        },
        "id": "SF0z5SAAZ6q8",
        "outputId": "bbe5b74a-1c4f-4eb1-97d5-f312d62485ef"
      },
      "outputs": [],
      "source": [
        "max_len = 4500"
      ]
    },
    {
      "cell_type": "code",
      "execution_count": 8,
      "metadata": {
        "id": "rvXj3FXIYEpt"
      },
      "outputs": [
        {
          "name": "stderr",
          "output_type": "stream",
          "text": [
            "Token indices sequence length is longer than the specified maximum sequence length for this model (514 > 512). Running this sequence through the model will result in indexing errors\n"
          ]
        }
      ],
      "source": [
        "token_ids = []\n",
        "encoded_inputs = []\n",
        "embed_vectors = []\n",
        "token_to_text = []\n",
        "for sentence in sentences:\n",
        "  encoded_input = tokenizer(sentence, return_tensors='tf')\n",
        "  tokens = encoded_input.input_ids[0]\n",
        "  \n",
        "  token_ids.append(tokens)\n",
        "  encoded_inputs.append(encoded_input)\n",
        "\n",
        "ready_tokens = pad_sequences(token_ids, padding=\"post\", maxlen=max_len)\n",
        "\n",
        "for i in range(len(ready_tokens)):\n",
        "  text = tokenizer.convert_ids_to_tokens(ready_tokens[i])\n",
        "  token_to_text.append(text) "
      ]
    },
    {
      "cell_type": "code",
      "execution_count": 9,
      "metadata": {},
      "outputs": [
        {
          "data": {
            "text/html": [
              "<style>#sk-container-id-1 {color: black;background-color: white;}#sk-container-id-1 pre{padding: 0;}#sk-container-id-1 div.sk-toggleable {background-color: white;}#sk-container-id-1 label.sk-toggleable__label {cursor: pointer;display: block;width: 100%;margin-bottom: 0;padding: 0.3em;box-sizing: border-box;text-align: center;}#sk-container-id-1 label.sk-toggleable__label-arrow:before {content: \"▸\";float: left;margin-right: 0.25em;color: #696969;}#sk-container-id-1 label.sk-toggleable__label-arrow:hover:before {color: black;}#sk-container-id-1 div.sk-estimator:hover label.sk-toggleable__label-arrow:before {color: black;}#sk-container-id-1 div.sk-toggleable__content {max-height: 0;max-width: 0;overflow: hidden;text-align: left;background-color: #f0f8ff;}#sk-container-id-1 div.sk-toggleable__content pre {margin: 0.2em;color: black;border-radius: 0.25em;background-color: #f0f8ff;}#sk-container-id-1 input.sk-toggleable__control:checked~div.sk-toggleable__content {max-height: 200px;max-width: 100%;overflow: auto;}#sk-container-id-1 input.sk-toggleable__control:checked~label.sk-toggleable__label-arrow:before {content: \"▾\";}#sk-container-id-1 div.sk-estimator input.sk-toggleable__control:checked~label.sk-toggleable__label {background-color: #d4ebff;}#sk-container-id-1 div.sk-label input.sk-toggleable__control:checked~label.sk-toggleable__label {background-color: #d4ebff;}#sk-container-id-1 input.sk-hidden--visually {border: 0;clip: rect(1px 1px 1px 1px);clip: rect(1px, 1px, 1px, 1px);height: 1px;margin: -1px;overflow: hidden;padding: 0;position: absolute;width: 1px;}#sk-container-id-1 div.sk-estimator {font-family: monospace;background-color: #f0f8ff;border: 1px dotted black;border-radius: 0.25em;box-sizing: border-box;margin-bottom: 0.5em;}#sk-container-id-1 div.sk-estimator:hover {background-color: #d4ebff;}#sk-container-id-1 div.sk-parallel-item::after {content: \"\";width: 100%;border-bottom: 1px solid gray;flex-grow: 1;}#sk-container-id-1 div.sk-label:hover label.sk-toggleable__label {background-color: #d4ebff;}#sk-container-id-1 div.sk-serial::before {content: \"\";position: absolute;border-left: 1px solid gray;box-sizing: border-box;top: 0;bottom: 0;left: 50%;z-index: 0;}#sk-container-id-1 div.sk-serial {display: flex;flex-direction: column;align-items: center;background-color: white;padding-right: 0.2em;padding-left: 0.2em;position: relative;}#sk-container-id-1 div.sk-item {position: relative;z-index: 1;}#sk-container-id-1 div.sk-parallel {display: flex;align-items: stretch;justify-content: center;background-color: white;position: relative;}#sk-container-id-1 div.sk-item::before, #sk-container-id-1 div.sk-parallel-item::before {content: \"\";position: absolute;border-left: 1px solid gray;box-sizing: border-box;top: 0;bottom: 0;left: 50%;z-index: -1;}#sk-container-id-1 div.sk-parallel-item {display: flex;flex-direction: column;z-index: 1;position: relative;background-color: white;}#sk-container-id-1 div.sk-parallel-item:first-child::after {align-self: flex-end;width: 50%;}#sk-container-id-1 div.sk-parallel-item:last-child::after {align-self: flex-start;width: 50%;}#sk-container-id-1 div.sk-parallel-item:only-child::after {width: 0;}#sk-container-id-1 div.sk-dashed-wrapped {border: 1px dashed gray;margin: 0 0.4em 0.5em 0.4em;box-sizing: border-box;padding-bottom: 0.4em;background-color: white;}#sk-container-id-1 div.sk-label label {font-family: monospace;font-weight: bold;display: inline-block;line-height: 1.2em;}#sk-container-id-1 div.sk-label-container {text-align: center;}#sk-container-id-1 div.sk-container {/* jupyter's `normalize.less` sets `[hidden] { display: none; }` but bootstrap.min.css set `[hidden] { display: none !important; }` so we also need the `!important` here to be able to override the default hidden behavior on the sphinx rendered scikit-learn.org. See: https://github.com/scikit-learn/scikit-learn/issues/21755 */display: inline-block !important;position: relative;}#sk-container-id-1 div.sk-text-repr-fallback {display: none;}</style><div id=\"sk-container-id-1\" class=\"sk-top-container\"><div class=\"sk-text-repr-fallback\"><pre>MinMaxScaler()</pre><b>In a Jupyter environment, please rerun this cell to show the HTML representation or trust the notebook. <br />On GitHub, the HTML representation is unable to render, please try loading this page with nbviewer.org.</b></div><div class=\"sk-container\" hidden><div class=\"sk-item\"><div class=\"sk-estimator sk-toggleable\"><input class=\"sk-toggleable__control sk-hidden--visually\" id=\"sk-estimator-id-1\" type=\"checkbox\" checked><label for=\"sk-estimator-id-1\" class=\"sk-toggleable__label sk-toggleable__label-arrow\">MinMaxScaler</label><div class=\"sk-toggleable__content\"><pre>MinMaxScaler()</pre></div></div></div></div></div>"
            ],
            "text/plain": [
              "MinMaxScaler()"
            ]
          },
          "execution_count": 9,
          "metadata": {},
          "output_type": "execute_result"
        }
      ],
      "source": [
        "scaler = MinMaxScaler()\n",
        "scaler.fit(ready_tokens)"
      ]
    },
    {
      "cell_type": "code",
      "execution_count": 10,
      "metadata": {
        "id": "fCDJjKV3fRpM"
      },
      "outputs": [],
      "source": [
        "X = scaler.transform(ready_tokens)\n",
        "y = df_news[\"Type\"]\n",
        "X_train, X_test, y_train, y_test = train_test_split(X, y, test_size=0.3, random_state=RANDOM_STATE)"
      ]
    },
    {
      "cell_type": "code",
      "execution_count": 11,
      "metadata": {
        "id": "isJ4-BL8gDGu"
      },
      "outputs": [],
      "source": [
        "param_grid = {\n",
        "  'C': [1, 0.1, 10, 100], \n",
        "  'kernel': [\"poly\", \"rbf\"],\n",
        "  'gamma': [0.01, 0.1, 0.5, 0.7, 1],\n",
        "  'degree': [3, 4, 5],\n",
        "  'coef0': [0.1, 1, 10, 100],\n",
        "}"
      ]
    },
    {
      "cell_type": "code",
      "execution_count": 12,
      "metadata": {
        "id": "r8tUbtfFgGGe"
      },
      "outputs": [],
      "source": [
        "# grid = GridSearchCV(xSVMC(), param_grid, cv=3, verbose=2)\n",
        "# grid.fit(X_train,y_train)"
      ]
    },
    {
      "cell_type": "code",
      "execution_count": 13,
      "metadata": {
        "id": "iBfRphw8gQcg"
      },
      "outputs": [],
      "source": [
        "# grid.best_estimator_"
      ]
    },
    {
      "cell_type": "code",
      "execution_count": 14,
      "metadata": {
        "colab": {
          "base_uri": "https://localhost:8080/"
        },
        "id": "cODNNRYHgSgV",
        "outputId": "3e4f6537-149d-4806-907e-c4850f227f7b"
      },
      "outputs": [
        {
          "data": {
            "text/html": [
              "<style>#sk-container-id-2 {color: black;background-color: white;}#sk-container-id-2 pre{padding: 0;}#sk-container-id-2 div.sk-toggleable {background-color: white;}#sk-container-id-2 label.sk-toggleable__label {cursor: pointer;display: block;width: 100%;margin-bottom: 0;padding: 0.3em;box-sizing: border-box;text-align: center;}#sk-container-id-2 label.sk-toggleable__label-arrow:before {content: \"▸\";float: left;margin-right: 0.25em;color: #696969;}#sk-container-id-2 label.sk-toggleable__label-arrow:hover:before {color: black;}#sk-container-id-2 div.sk-estimator:hover label.sk-toggleable__label-arrow:before {color: black;}#sk-container-id-2 div.sk-toggleable__content {max-height: 0;max-width: 0;overflow: hidden;text-align: left;background-color: #f0f8ff;}#sk-container-id-2 div.sk-toggleable__content pre {margin: 0.2em;color: black;border-radius: 0.25em;background-color: #f0f8ff;}#sk-container-id-2 input.sk-toggleable__control:checked~div.sk-toggleable__content {max-height: 200px;max-width: 100%;overflow: auto;}#sk-container-id-2 input.sk-toggleable__control:checked~label.sk-toggleable__label-arrow:before {content: \"▾\";}#sk-container-id-2 div.sk-estimator input.sk-toggleable__control:checked~label.sk-toggleable__label {background-color: #d4ebff;}#sk-container-id-2 div.sk-label input.sk-toggleable__control:checked~label.sk-toggleable__label {background-color: #d4ebff;}#sk-container-id-2 input.sk-hidden--visually {border: 0;clip: rect(1px 1px 1px 1px);clip: rect(1px, 1px, 1px, 1px);height: 1px;margin: -1px;overflow: hidden;padding: 0;position: absolute;width: 1px;}#sk-container-id-2 div.sk-estimator {font-family: monospace;background-color: #f0f8ff;border: 1px dotted black;border-radius: 0.25em;box-sizing: border-box;margin-bottom: 0.5em;}#sk-container-id-2 div.sk-estimator:hover {background-color: #d4ebff;}#sk-container-id-2 div.sk-parallel-item::after {content: \"\";width: 100%;border-bottom: 1px solid gray;flex-grow: 1;}#sk-container-id-2 div.sk-label:hover label.sk-toggleable__label {background-color: #d4ebff;}#sk-container-id-2 div.sk-serial::before {content: \"\";position: absolute;border-left: 1px solid gray;box-sizing: border-box;top: 0;bottom: 0;left: 50%;z-index: 0;}#sk-container-id-2 div.sk-serial {display: flex;flex-direction: column;align-items: center;background-color: white;padding-right: 0.2em;padding-left: 0.2em;position: relative;}#sk-container-id-2 div.sk-item {position: relative;z-index: 1;}#sk-container-id-2 div.sk-parallel {display: flex;align-items: stretch;justify-content: center;background-color: white;position: relative;}#sk-container-id-2 div.sk-item::before, #sk-container-id-2 div.sk-parallel-item::before {content: \"\";position: absolute;border-left: 1px solid gray;box-sizing: border-box;top: 0;bottom: 0;left: 50%;z-index: -1;}#sk-container-id-2 div.sk-parallel-item {display: flex;flex-direction: column;z-index: 1;position: relative;background-color: white;}#sk-container-id-2 div.sk-parallel-item:first-child::after {align-self: flex-end;width: 50%;}#sk-container-id-2 div.sk-parallel-item:last-child::after {align-self: flex-start;width: 50%;}#sk-container-id-2 div.sk-parallel-item:only-child::after {width: 0;}#sk-container-id-2 div.sk-dashed-wrapped {border: 1px dashed gray;margin: 0 0.4em 0.5em 0.4em;box-sizing: border-box;padding-bottom: 0.4em;background-color: white;}#sk-container-id-2 div.sk-label label {font-family: monospace;font-weight: bold;display: inline-block;line-height: 1.2em;}#sk-container-id-2 div.sk-label-container {text-align: center;}#sk-container-id-2 div.sk-container {/* jupyter's `normalize.less` sets `[hidden] { display: none; }` but bootstrap.min.css set `[hidden] { display: none !important; }` so we also need the `!important` here to be able to override the default hidden behavior on the sphinx rendered scikit-learn.org. See: https://github.com/scikit-learn/scikit-learn/issues/21755 */display: inline-block !important;position: relative;}#sk-container-id-2 div.sk-text-repr-fallback {display: none;}</style><div id=\"sk-container-id-2\" class=\"sk-top-container\"><div class=\"sk-text-repr-fallback\"><pre>xSVMC(C=0.1, coef0=0.1, gamma=0.1, k=3, kernel=&#x27;poly&#x27;, random_state=42)</pre><b>In a Jupyter environment, please rerun this cell to show the HTML representation or trust the notebook. <br />On GitHub, the HTML representation is unable to render, please try loading this page with nbviewer.org.</b></div><div class=\"sk-container\" hidden><div class=\"sk-item\"><div class=\"sk-estimator sk-toggleable\"><input class=\"sk-toggleable__control sk-hidden--visually\" id=\"sk-estimator-id-2\" type=\"checkbox\" checked><label for=\"sk-estimator-id-2\" class=\"sk-toggleable__label sk-toggleable__label-arrow\">xSVMC</label><div class=\"sk-toggleable__content\"><pre>xSVMC(C=0.1, coef0=0.1, gamma=0.1, k=3, kernel=&#x27;poly&#x27;, random_state=42)</pre></div></div></div></div></div>"
            ],
            "text/plain": [
              "xSVMC(C=0.1, coef0=0.1, gamma=0.1, k=3, kernel='poly', random_state=42)"
            ]
          },
          "execution_count": 14,
          "metadata": {},
          "output_type": "execute_result"
        }
      ],
      "source": [
        "#Best parameter\n",
        "kernel = \"poly\"\n",
        "gamma = 0.1\n",
        "degree = 3\n",
        "C =  0.1\n",
        "k = 3\n",
        "coef0 = 0.1\n",
        "clf = xSVMC(kernel=kernel, degree=degree, C=C, gamma=gamma, k=k, coef0=coef0, random_state=RANDOM_STATE)\n",
        "clf.fit(X_train, y_train)"
      ]
    },
    {
      "cell_type": "code",
      "execution_count": 15,
      "metadata": {
        "id": "YdXX4Wh3gYlm"
      },
      "outputs": [],
      "source": [
        "SVs = clf.support_vectors_"
      ]
    },
    {
      "cell_type": "code",
      "execution_count": 16,
      "metadata": {},
      "outputs": [
        {
          "data": {
            "text/plain": [
              "array([[40,  0, 34,  3,  2,  0,  2],\n",
              "       [ 2, 21, 26,  0,  0,  0,  3],\n",
              "       [15,  4, 79,  1,  4,  0,  5],\n",
              "       [23,  0, 15,  0,  2,  0,  0],\n",
              "       [18,  1, 12,  0,  3,  0,  1],\n",
              "       [ 2,  0,  6,  1,  1,  0,  0],\n",
              "       [ 2,  3, 24,  0,  0,  0, 11]], dtype=int64)"
            ]
          },
          "execution_count": 16,
          "metadata": {},
          "output_type": "execute_result"
        }
      ],
      "source": [
        "confusion_matrix(y_test, clf.predict(X_test))"
      ]
    },
    {
      "cell_type": "code",
      "execution_count": 27,
      "metadata": {},
      "outputs": [
        {
          "name": "stdout",
          "output_type": "stream",
          "text": [
            "                precision    recall  f1-score   support\n",
            "\n",
            "      Alianzas       0.39      0.49      0.44        81\n",
            "    Innovacion       0.72      0.40      0.52        52\n",
            " Macroeconomia       0.40      0.73      0.52       108\n",
            "          Otra       0.00      0.00      0.00        40\n",
            "  Regulaciones       0.25      0.09      0.13        35\n",
            "    Reputacion       0.00      0.00      0.00        10\n",
            "Sostenibilidad       0.50      0.28      0.35        40\n",
            "\n",
            "      accuracy                           0.42       366\n",
            "     macro avg       0.32      0.28      0.28       366\n",
            "  weighted avg       0.39      0.42      0.37       366\n",
            "\n"
          ]
        },
        {
          "name": "stderr",
          "output_type": "stream",
          "text": [
            "d:\\Github Projects\\back_news_classifier\\.env\\lib\\site-packages\\sklearn\\metrics\\_classification.py:1344: UndefinedMetricWarning: Precision and F-score are ill-defined and being set to 0.0 in labels with no predicted samples. Use `zero_division` parameter to control this behavior.\n",
            "  _warn_prf(average, modifier, msg_start, len(result))\n",
            "d:\\Github Projects\\back_news_classifier\\.env\\lib\\site-packages\\sklearn\\metrics\\_classification.py:1344: UndefinedMetricWarning: Precision and F-score are ill-defined and being set to 0.0 in labels with no predicted samples. Use `zero_division` parameter to control this behavior.\n",
            "  _warn_prf(average, modifier, msg_start, len(result))\n",
            "d:\\Github Projects\\back_news_classifier\\.env\\lib\\site-packages\\sklearn\\metrics\\_classification.py:1344: UndefinedMetricWarning: Precision and F-score are ill-defined and being set to 0.0 in labels with no predicted samples. Use `zero_division` parameter to control this behavior.\n",
            "  _warn_prf(average, modifier, msg_start, len(result))\n"
          ]
        }
      ],
      "source": [
        "print(classification_report(y_test, clf.predict(X_test)))"
      ]
    },
    {
      "cell_type": "code",
      "execution_count": 18,
      "metadata": {},
      "outputs": [
        {
          "data": {
            "text/plain": [
              "['./xsvmc.joblib']"
            ]
          },
          "execution_count": 18,
          "metadata": {},
          "output_type": "execute_result"
        }
      ],
      "source": [
        "dump(clf, \"./xsvmc.joblib\")"
      ]
    },
    {
      "cell_type": "code",
      "execution_count": 19,
      "metadata": {
        "id": "OXr3qPFugosl"
      },
      "outputs": [],
      "source": [
        "colormap = LinearSegmentedColormap.from_list('custom', \n",
        "                                       [(0, '#162cd9'),\n",
        "                                        (1,   '#f2271f')], N=256)"
      ]
    },
    {
      "cell_type": "code",
      "execution_count": 20,
      "metadata": {
        "id": "TQO54nzI161z"
      },
      "outputs": [],
      "source": [
        "def draw_text(draw_obj, text, pos_x, pos_y, prob, font):\n",
        "  color = colormap(prob)[:3]\n",
        "  draw_obj.text((pos_x, pos_y), text, fill=(int(color[0] * 255), int(color[1] * 255), int(color[2] * 255), 255), font=font)"
      ]
    },
    {
      "cell_type": "code",
      "execution_count": 21,
      "metadata": {
        "id": "-UgelN6Qgppa"
      },
      "outputs": [],
      "source": [
        "def create_img(l_text, prob, y_size):\n",
        "  offset_y = 10\n",
        "  offset_x = 10\n",
        "  img_x = 800\n",
        "  img_y = y_size\n",
        "\n",
        "  img = Image.new(mode=\"RGBA\", size=(img_x, img_y), color = (255, 255, 255))\n",
        "  txt = Image.new('RGBA', img.size, (255,255,255,0))\n",
        "  draw = ImageDraw.Draw(txt)\n",
        "  font = ImageFont.truetype(\"models/xsvmc_model/fonts/SpaceMono-Bold.ttf\", 16)\n",
        "\n",
        "  last_pos_x = 0\n",
        "  combined = 0\n",
        "  pos_y = 0\n",
        "  for i in range(len(l_text)):\n",
        "    palabra = l_text[i]\n",
        "    if palabra.startswith(\"##\"):\n",
        "      palabra = palabra[2:]\n",
        "      pos_x = (len(palabra)) * 10\n",
        "    elif palabra not in [\".\", \",\"]:\n",
        "      palabra = \" \" + palabra\n",
        "      pos_x = (len(palabra)) * 10\n",
        "      if last_pos_x + pos_x + offset_x >= img_x - 70:\n",
        "        pos_y += 18\n",
        "        last_pos_x = 0\n",
        "    else:\n",
        "      pos_x = (len(palabra)) * 10\n",
        "\n",
        "    draw_text(draw, palabra, last_pos_x + offset_x, pos_y + offset_y, prob[i], font)\n",
        "    last_pos_x += pos_x\n",
        "\n",
        "  combined = Image.alpha_composite(img, txt)\n",
        "  buffered = BytesIO()\n",
        "  combined.save(buffered, format=\"PNG\")\n",
        "  img_str = base64.b64encode(buffered.getvalue())\n",
        "  return img_str"
      ]
    },
    {
      "cell_type": "code",
      "execution_count": 22,
      "metadata": {},
      "outputs": [],
      "source": [
        "def render_text(text, misv):\n",
        "  caracteres = \" \".join(text)\n",
        "  y_size = int(len(caracteres) / 60 * 18)\n",
        "  values = misv\n",
        "  max_value = max(values)\n",
        "  prob = (values / max_value)\n",
        "  return create_img(text, prob, y_size)"
      ]
    },
    {
      "cell_type": "code",
      "execution_count": 23,
      "metadata": {
        "id": "t_bgG3_Fslvx"
      },
      "outputs": [],
      "source": [
        "def preprocess_text(text):\n",
        "  encoded_input = tokenizer(text, return_tensors='tf')\n",
        "  tokens = encoded_input.input_ids[0]\n",
        "  ready_tokens = pad_sequences([tokens], padding=\"post\", maxlen=max_len)[0]\n",
        "  text_tokens = tokenizer.convert_ids_to_tokens(ready_tokens)\n",
        "  return ready_tokens, text_tokens, len(tokens)"
      ]
    },
    {
      "cell_type": "code",
      "execution_count": 24,
      "metadata": {
        "id": "29f82AtbsZfP"
      },
      "outputs": [],
      "source": [
        "def contextualized_prediction(text):\n",
        "  tokens, text_tokens, original_len = preprocess_text(text)\n",
        "  clean_text = text_tokens[1:original_len-1]\n",
        "  topK = clf.predict_with_context(tokens)\n",
        "  response = []\n",
        "  for i in range(len(topK)):\n",
        "    pred = topK[i]\n",
        "    mu_misv = SVs[pred.eval.mu_hat.misv_idx][1:original_len-1]\n",
        "    nu_misv = SVs[pred.eval.nu_hat.misv_idx][1:original_len-1]\n",
        "    b64_pro = render_text(clean_text, mu_misv)\n",
        "    b64_contra = render_text(clean_text, nu_misv)\n",
        "    response.append({\n",
        "      'clase': pred.class_name,\n",
        "      'favor': b64_pro,\n",
        "      'favor_value': pred.eval.mu_hat.level,\n",
        "      'contra': b64_contra,\n",
        "      'contra_value': pred.eval.nu_hat.level\n",
        "    })\n",
        "  return response"
      ]
    }
  ],
  "metadata": {
    "accelerator": "GPU",
    "colab": {
      "provenance": []
    },
    "gpuClass": "standard",
    "kernelspec": {
      "display_name": ".env",
      "language": "python",
      "name": "python3"
    },
    "language_info": {
      "codemirror_mode": {
        "name": "ipython",
        "version": 3
      },
      "file_extension": ".py",
      "mimetype": "text/x-python",
      "name": "python",
      "nbconvert_exporter": "python",
      "pygments_lexer": "ipython3",
      "version": "3.10.7"
    },
    "vscode": {
      "interpreter": {
        "hash": "ec6b06e5bc4c5f6ce1646a63b0691f1cfc5dc8353032fc2e57227de459466c99"
      }
    }
  },
  "nbformat": 4,
  "nbformat_minor": 0
}
